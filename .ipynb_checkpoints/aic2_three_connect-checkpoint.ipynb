{
 "cells": [
  {
   "cell_type": "markdown",
   "metadata": {},
   "source": [
    "# Connect Three \n",
    "\n",
    "The primary description of this coursework is available on the CM20252 Moodle page. This is the Jupyter notebook you must complete and submit to receive marks. This notebook adds additional detail to the coursework specification but does not repeat the information that has already been provided there. \n",
    "\n",
    "You must follow all instructions given in this notebook precisely.\n",
    "\n",
    "Restart the kernel and run all cells before submitting the notebook. This will guarantee that we will be able to run your code for testing. Remember to save your work regularly.\n",
    "\n",
    "__You will develop players for Connect-Three on a grid that is 5 columns wide and 3 rows high. An example is shown below showing a win for Player Red.__\n",
    "\n",
    "<img src=\"images/connect3.png\" style=\"width: 200px;\"/>"
   ]
  },
  {
   "cell_type": "markdown",
   "metadata": {},
   "source": [
    "## Preliminaries\n",
    "\n",
    "For your reference, below is a visual depiction of the agent-environment interface in reinforcment learning. The interaction of the agent with its environments starts at decision stage $t=0$ with the observation of the current state $s_0$. (Notice that there is no reward at this initial stage.) The agent then chooses an action to execute at decision stage $t=1$. The environment responds by changing its state to $s_1$ and returning the numerical reward signal $r_1$. \n",
    "\n",
    "<img src=\"images/agent-environment.png\" style=\"width: 500px;\"/>\n",
    "\n",
    "<br><br><br>\n",
    "\n",
    "Below, we provide some code that will be useful for implementing parts of this interface. You are not obligated to use this code; please feel free to develop your own code from scratch. \n",
    "\n",
    "### Code details\n",
    "\n",
    "We provide a `Connect` class that you can use to simulate Connect-Three games. The following cells in this section will walk you through the basic usage of this class by playing a couple of games.\n",
    "\n",
    "We import the `connect` module and create a Connect-Three environmnet called `env`. The constructor method has one argument called `verbose`. If `verbose=True`, the `Connect` object will regularly print the progress of the game. This is useful for getting to know the provided code, debugging your code, or if you just want to play around. You will want to set `verbose=False` when you run hundreds of episodes to complete the marked exercises.\n",
    "\n",
    "This `Connect` environment uses the strings `'o'` and `'x'` instead of different disk colors in order to distuingish between the two players.\n",
    "\n",
    "Before we start a game, we should call the `reset()` method. This method cleans the board and resets other state variables. The `first_player` argument can be specified (`'o'` or `'x'`) to deterministically choose the starting player. It defaults to `\"random\"`, in which case each player starts the game with probability of $\\frac{1}{2}$."
   ]
  },
  {
   "cell_type": "code",
   "execution_count": 7,
   "metadata": {},
   "outputs": [
    {
     "name": "stdout",
     "output_type": "stream",
     "text": [
      "Game has been reset.\n",
      "[[' ' ' ' ' ' ' ' ' ']\n",
      " [' ' ' ' ' ' ' ' ' ']\n",
      " [' ' ' ' ' ' ' ' ' ']]\n"
     ]
    }
   ],
   "source": [
    "import connect\n",
    "env = connect.Connect(verbose=True)\n",
    "env.reset(first_player='o')"
   ]
  },
  {
   "cell_type": "markdown",
   "metadata": {},
   "source": [
    "We can interact with the environment using the `act()` method. This method takes an `action` as input and computes the response of the environment. An action is defined as the column index that a disk is dropped into."
   ]
  },
  {
   "cell_type": "code",
   "execution_count": 8,
   "metadata": {},
   "outputs": [
    {
     "name": "stdout",
     "output_type": "stream",
     "text": [
      "[[' ' ' ' ' ' ' ' ' ']\n",
      " [' ' ' ' ' ' ' ' ' ']\n",
      " [' ' ' ' 'o' ' ' ' ']]\n"
     ]
    }
   ],
   "source": [
    "env.act(action=2)"
   ]
  },
  {
   "cell_type": "markdown",
   "metadata": {},
   "source": [
    "The `act()` method inserts a disk into the specified column. \n",
    "\n",
    "If we want to change the player on move, we can do so by using the `change_turn()` method. We can check whose turn it is by accessing the `.player_at_turn` attribute."
   ]
  },
  {
   "cell_type": "code",
   "execution_count": 9,
   "metadata": {},
   "outputs": [
    {
     "name": "stdout",
     "output_type": "stream",
     "text": [
      "Current player at turn: o\n",
      "Current player at turn: x\n",
      "[[' ' ' ' ' ' ' ' ' ']\n",
      " [' ' ' ' 'x' ' ' ' ']\n",
      " [' ' ' ' 'o' ' ' ' ']]\n"
     ]
    }
   ],
   "source": [
    "print(\"Current player at turn:\", env.player_at_turn)\n",
    "env.change_turn()\n",
    "print(\"Current player at turn:\", env.player_at_turn)\n",
    "\n",
    "# Drop another disk into the same centre column.\n",
    "env.act(action=2)"
   ]
  },
  {
   "cell_type": "markdown",
   "metadata": {},
   "source": [
    "Because we set `verbose=True`, the grid is printed each time we call the `act()` method. This grid is stored as a two-dimensional numpy array in the connect class and you can easily access by calling..."
   ]
  },
  {
   "cell_type": "code",
   "execution_count": 10,
   "metadata": {},
   "outputs": [
    {
     "name": "stdout",
     "output_type": "stream",
     "text": [
      "[[' ' ' ' 'o' ' ' ' ']\n",
      " [' ' ' ' 'x' ' ' ' ']\n",
      " [' ' ' ' ' ' ' ' ' ']]\n"
     ]
    }
   ],
   "source": [
    "current_grid = env.grid\n",
    "print(current_grid)\n",
    "# Notice that the grid now appears to be \"upside down\" because numpy arrays are printed from \"top to bottom\"."
   ]
  },
  {
   "cell_type": "code",
   "execution_count": 11,
   "metadata": {},
   "outputs": [
    {
     "name": "stdout",
     "output_type": "stream",
     "text": [
      "[[' ' ' ' 'o' ' ' ' ']\n",
      " [' ' ' ' 'x' ' ' ' ']\n",
      " [' ' ' ' 'o' ' ' ' ']]\n"
     ]
    }
   ],
   "source": [
    "# Let's make another move.\n",
    "env.change_turn()\n",
    "env.act(action=2)"
   ]
  },
  {
   "cell_type": "markdown",
   "metadata": {},
   "source": [
    "If we make another move with `act(action=2)`, the environment will throw an error because that column is already filled."
   ]
  },
  {
   "cell_type": "code",
   "execution_count": 12,
   "metadata": {},
   "outputs": [
    {
     "ename": "IndexError",
     "evalue": "index 3 is out of bounds for axis 0 with size 3",
     "output_type": "error",
     "traceback": [
      "\u001b[1;31m---------------------------------------------------------------------------\u001b[0m",
      "\u001b[1;31mIndexError\u001b[0m                                Traceback (most recent call last)",
      "\u001b[1;32m<ipython-input-12-3460a887c4c5>\u001b[0m in \u001b[0;36m<module>\u001b[1;34m()\u001b[0m\n\u001b[0;32m      1\u001b[0m \u001b[1;31m# This cell should throw an error!\u001b[0m\u001b[1;33m\u001b[0m\u001b[1;33m\u001b[0m\u001b[0m\n\u001b[0;32m      2\u001b[0m \u001b[0menv\u001b[0m\u001b[1;33m.\u001b[0m\u001b[0mchange_turn\u001b[0m\u001b[1;33m(\u001b[0m\u001b[1;33m)\u001b[0m\u001b[1;33m\u001b[0m\u001b[0m\n\u001b[1;32m----> 3\u001b[1;33m \u001b[0menv\u001b[0m\u001b[1;33m.\u001b[0m\u001b[0mact\u001b[0m\u001b[1;33m(\u001b[0m\u001b[0maction\u001b[0m\u001b[1;33m=\u001b[0m\u001b[1;36m2\u001b[0m\u001b[1;33m)\u001b[0m\u001b[1;33m\u001b[0m\u001b[0m\n\u001b[0m",
      "\u001b[1;32m~\\Documents\\GitHub\\connect_three\\connect.py\u001b[0m in \u001b[0;36mact\u001b[1;34m(self, action)\u001b[0m\n\u001b[0;32m     50\u001b[0m         \u001b[1;33m:\u001b[0m\u001b[0mparam\u001b[0m \u001b[0maction\u001b[0m\u001b[1;33m:\u001b[0m \u001b[0man\u001b[0m \u001b[0minteger\u001b[0m \u001b[0mreferring\u001b[0m \u001b[0mto\u001b[0m \u001b[0mthe\u001b[0m \u001b[0mcolumn\u001b[0m \u001b[0mindex\u001b[0m \u001b[0mwhere\u001b[0m \u001b[0ma\u001b[0m \u001b[0mnew\u001b[0m \u001b[0mtoken\u001b[0m\u001b[1;33m/\u001b[0m\u001b[0mdisk\u001b[0m \u001b[0mshould\u001b[0m \u001b[0mbe\u001b[0m \u001b[0mdropped\u001b[0m\u001b[1;33m\u001b[0m\u001b[0m\n\u001b[0;32m     51\u001b[0m         \"\"\"\n\u001b[1;32m---> 52\u001b[1;33m         \u001b[0mself\u001b[0m\u001b[1;33m.\u001b[0m\u001b[0mgrid\u001b[0m\u001b[1;33m[\u001b[0m\u001b[0mself\u001b[0m\u001b[1;33m.\u001b[0m\u001b[0mlowest_free_rows\u001b[0m\u001b[1;33m[\u001b[0m\u001b[0maction\u001b[0m\u001b[1;33m]\u001b[0m\u001b[1;33m,\u001b[0m \u001b[0maction\u001b[0m\u001b[1;33m]\u001b[0m \u001b[1;33m=\u001b[0m \u001b[0mself\u001b[0m\u001b[1;33m.\u001b[0m\u001b[0mplayer_at_turn\u001b[0m\u001b[1;33m\u001b[0m\u001b[0m\n\u001b[0m\u001b[0;32m     53\u001b[0m         \u001b[0mself\u001b[0m\u001b[1;33m.\u001b[0m\u001b[0mlowest_free_rows\u001b[0m\u001b[1;33m[\u001b[0m\u001b[0maction\u001b[0m\u001b[1;33m]\u001b[0m \u001b[1;33m+=\u001b[0m \u001b[1;36m1\u001b[0m\u001b[1;33m\u001b[0m\u001b[0m\n\u001b[0;32m     54\u001b[0m         \u001b[1;32mif\u001b[0m \u001b[0mself\u001b[0m\u001b[1;33m.\u001b[0m\u001b[0mlowest_free_rows\u001b[0m\u001b[1;33m[\u001b[0m\u001b[0maction\u001b[0m\u001b[1;33m]\u001b[0m \u001b[1;33m==\u001b[0m \u001b[0mself\u001b[0m\u001b[1;33m.\u001b[0m\u001b[0mnum_rows\u001b[0m\u001b[1;33m:\u001b[0m\u001b[1;33m\u001b[0m\u001b[0m\n",
      "\u001b[1;31mIndexError\u001b[0m: index 3 is out of bounds for axis 0 with size 3"
     ]
    }
   ],
   "source": [
    "# This cell should throw an error!\n",
    "env.change_turn()\n",
    "env.act(action=2)"
   ]
  },
  {
   "cell_type": "markdown",
   "metadata": {},
   "source": [
    "The attribute `.available_actions` contains a numpy array of all not yet filled columns."
   ]
  },
  {
   "cell_type": "code",
   "execution_count": 13,
   "metadata": {},
   "outputs": [
    {
     "name": "stdout",
     "output_type": "stream",
     "text": [
      "[0 1 3 4]\n"
     ]
    }
   ],
   "source": [
    "print(env.available_actions)\n",
    "# Column index '2' is missing because this column is already filled"
   ]
  },
  {
   "cell_type": "markdown",
   "metadata": {},
   "source": [
    "The `Connect` class contains a method called `was_winning_move()` that checks whether the last move won the game (returns `True`) or not (returns `False`). "
   ]
  },
  {
   "cell_type": "code",
   "execution_count": 14,
   "metadata": {},
   "outputs": [
    {
     "name": "stdout",
     "output_type": "stream",
     "text": [
      "Winning move? False\n",
      "[[' ' ' ' 'o' ' ' ' ']\n",
      " [' ' ' ' 'x' ' ' ' ']\n",
      " [' ' ' ' 'o' 'x' ' ']]\n",
      "[[' ' ' ' 'o' ' ' ' ']\n",
      " [' ' ' ' 'x' ' ' ' ']\n",
      " [' ' 'o' 'o' 'x' ' ']]\n",
      "[[' ' ' ' 'o' ' ' ' ']\n",
      " [' ' ' ' 'x' 'x' ' ']\n",
      " [' ' 'o' 'o' 'x' ' ']]\n",
      "[[' ' ' ' 'o' ' ' ' ']\n",
      " [' ' ' ' 'x' 'x' ' ']\n",
      " ['o' 'o' 'o' 'x' ' ']]\n",
      "Player ' o ' has won the game!\n",
      "Winning move? True\n"
     ]
    }
   ],
   "source": [
    "# Obviously the game has not yet been won by any player.\n",
    "print(\"Winning move?\", env.was_winning_move()) \n",
    "\n",
    "# Make some moves\n",
    "env.act(action=3)\n",
    "env.change_turn()\n",
    "env.act(action=1)\n",
    "env.change_turn()\n",
    "env.act(action=3)\n",
    "env.change_turn()\n",
    "env.act(action=0)\n",
    "\n",
    "# Check again whether a player has won the game.\n",
    "print(\"Winning move?\", env.was_winning_move()) "
   ]
  },
  {
   "cell_type": "markdown",
   "metadata": {},
   "source": [
    "Finally, the `Connect` class contains a method called `grid_is_full()` that checks whether the grid still contains empty slots. You can use this method to check whether the game is a draw.\n",
    "\n",
    "Feel free to modify existing or add new methods to the `Connect` class."
   ]
  },
  {
   "cell_type": "markdown",
   "metadata": {},
   "source": [
    "## Part 1: Q-learning\n",
    "\n",
    "Your opponent is always the first player. Your agent is always the second player.\n",
    "\n",
    "For your reference, the pseudo-code for Q-learning is reproduced below from the textbook (Reinforcement Learning, Sutton & Barto, 1998, Section 6.5).\n",
    "<img src=\"images/q_learning.png\" style=\"width: 600px;\"/>\n",
    "\n",
    "Prepare a **learning curve** following the directions below. We refer to this as Plot 1.\n",
    "\n",
    "After $n$ steps of interaction with the environment, play $m$ games with the current policy of the agent (without modifying the policy). Think of this as interrupting the agent for a period of time to test how well it has learned so far. Your plot should show the total score obtained in these $m$ games as a function of $n, 2n, 3n, … kn$. The choices of $n$ and $k$ are up to you. They should be reasonable values that demonstrate the efficiency of the learning and how well the agent learns to play the game eventually. Use $m=10$. \n",
    "\n",
    "This plot should show the mean performance of $a$ agents, not the performance of a single agent. Because of the stochasticity in the environment, you will obtain two different learning curves from two different agents even though they are using exactly the same algorithm. We suggest setting $a$ to 30 or higher.\n",
    "\n",
    "Present a single mean learning curve with your choice of parameters $\\epsilon$ and $\\alpha$. The plot should also show (as a baseline) the mean performance of a random agent that does not learn but chooses actions uniformly randomly from among the legal actions. Label this line “Random Agent”. \n",
    "\n",
    "Please include this plot as a static figure in the appropriate cell below. You can look at the source code of this markdown cell to find out how to embed figures using html or you can use drag & drop. If you link to locally stored images, make sure to include those in your submission."
   ]
  },
  {
   "cell_type": "code",
   "execution_count": 8,
   "metadata": {
    "deletable": false,
    "nbgrader": {
     "checksum": "1431aa87b9e9019a4dbe6e696e0a9082",
     "grade": true,
     "grade_id": "cell-3ac2114f764e8410",
     "locked": false,
     "points": 0,
     "schema_version": 1,
     "solution": true
    }
   },
   "outputs": [],
   "source": [
    "import connect\n",
    "import random\n",
    "import hashlib\n",
    "import numpy as np\n",
    "env = connect.Connect(verbose=False)\n",
    "q_table = {}\n",
    "\n",
    "def string_s(s):\n",
    "    \n",
    "    \"\"\"Turns current game grid into a string\"\"\"\n",
    "    \n",
    "    stringed = \"\"\n",
    "    \n",
    "    for i in range(0,3):\n",
    "        for j in range(0,5):\n",
    "            stringed += s[i,j]\n",
    "            \n",
    "    return stringed\n",
    "\n",
    "def possible_a(s):\n",
    "    av = env.available_actions\n",
    "    \n",
    "    highest_value = -1\n",
    "    choice = 0\n",
    "    \n",
    "    for x in range(0,len(av)):\n",
    "        env.act(av[x])\n",
    "        st = string_s(s)\n",
    "        undo()\n",
    "        if st not in q_table:\n",
    "            q_table[st] = 0\n",
    "            \n",
    "        if q_table[st] > highest_value:\n",
    "            highest_value = q_table[st]\n",
    "            choice = av[x]\n",
    "                        \n",
    "    return choice\n",
    "            \n",
    "\n",
    "def undo():\n",
    "    env.undo_act()\n",
    "    \n",
    "def test_undo():\n",
    "    env.reset(first_player='o')\n",
    "    env.act(1)\n",
    "    env.change_turn()\n",
    "    env.act(1)\n",
    "    undo()\n",
    "    undo()\n",
    "\n",
    "def perform_random_move():\n",
    "    \"\"\"Performs a random move for whatever player called it\"\"\"\n",
    "    av = env.available_actions\n",
    "    r = random.randint(0, len(av) - 1)\n",
    "    env.act(av[r])\n",
    "\n",
    "def opponent_turn_and_won():\n",
    "    \"\"\"Game plan for the opponent. \n",
    "    \n",
    "    Which is just making a random move and checking if it has won\"\"\"\n",
    "    \n",
    "    env.change_turn()\n",
    "    perform_random_move()\n",
    "    if(env.was_winning_move()):\n",
    "        return True\n",
    "    else:\n",
    "        return False\n",
    "    \n",
    "def player_turn_and_won():\n",
    "    \"\"\"Game plan for the player.\"\"\"\n",
    "    env.change_turn()\n",
    "    \n",
    "    s = string_s(env.grid)\n",
    "    \n",
    "    if s not in q_table:\n",
    "        q_table[s] = 0\n",
    "    else:\n",
    "        q_table[s] += 1\n",
    "    \n",
    "    env.act(possible_a(env.grid))\n",
    "    #perform_random_move()\n",
    "    if(env.was_winning_move()):\n",
    "        return True\n",
    "    else:\n",
    "        return False\n",
    "    \n",
    "# player = o\n",
    "# opponent = x\n",
    "\n",
    "def game():\n",
    "    print(\"Playing game...\")\n",
    "    \n",
    "    games = 5000\n",
    "    games_won = 0\n",
    "    games_lost = 0\n",
    "    \n",
    "    fifth = games/5\n",
    "    two_fifths = 2 * fifth\n",
    "    three_fifths = 3 * fifth\n",
    "    four_fifths = 4 * fifth\n",
    "    \n",
    "    #q_table = {}\n",
    "\n",
    "    for i in range(0,games): \n",
    "        \n",
    "        if i == fifth : print(\"20% done...\")\n",
    "        if i == two_fifths: print(\"40% done...\")\n",
    "        if i == three_fifths: print(\"60% done...\")\n",
    "        if i == four_fifths: print(\"80% done...\")\n",
    "        \n",
    "        env.reset(first_player='o')\n",
    "        done = False\n",
    "        while(not done):\n",
    "            # if opponent didn't win then continue playing\n",
    "            if(not opponent_turn_and_won()):\n",
    "                # checks if grid if full, if not then continue playing\n",
    "                if(not env.grid_is_full()):\n",
    "                    # if player has won then stop game\n",
    "                    if(player_turn_and_won()):\n",
    "                        games_won += 1\n",
    "                        done = True\n",
    "                else:\n",
    "                    # grid is full, so game is a draw\n",
    "                    done = True\n",
    "            else:\n",
    "                # opponent has won, end game\n",
    "                games_lost += 1\n",
    "                done = True\n",
    "\n",
    "    print(\"Done!\")\n",
    "    print(\"Average Win Percentage for random: ~36-37%\")\n",
    "    print(\"Average win % if just increment q by 1 everytime it's called: ~56-58%\")\n",
    "    print(\"Win Percentage:\", (100 * games_won/games),\"%\")\n",
    "    print(\"Loss Percentage:\", (100 * games_lost/games),\"%\")\n",
    "    print(\"Draw Percentage:\", (100 * (games - games_won - games_lost)/games), \"%\")\n",
    "    print(q_table)"
   ]
  },
  {
   "cell_type": "code",
   "execution_count": 9,
   "metadata": {},
   "outputs": [
    {
     "name": "stdout",
     "output_type": "stream",
     "text": [
      "Playing game...\n",
      "20% done...\n",
      "40% done...\n",
      "60% done...\n",
      "80% done...\n",
      "Done!\n",
      "Average Win Percentage for random: ~36-37%\n",
      "Win Percentage: 58.22 %\n",
      "Loss Percentage: 41.72 %\n",
      "Draw Percentage: 0.06 %\n",
      "{'x              ': 930, 'x    o         ': 0, 'xo             ': 0, 'x o            ': 0, 'x  o           ': 0, 'x   o          ': 0, 'x  x o         ': 190, 'x  x o    o    ': 0, 'xo x o         ': 0, 'x ox o         ': 0, 'x  x o  o      ': 0, 'x  xoo         ': 0, 'x  x o  x o    ': 61, 'xo x o  x o    ': 0, 'x ox o  x o    ': 0, 'x  x o  x o  o ': 0, 'x  xoo  x o    ': 0, 'xoxx o  x o    ': 39, 'xoxx oo x o    ': 0, 'xoxx o ox o    ': 0, 'xoxxoo  x o    ': 0, 'xoxx o  x o  o ': 0, 'xoxx ooxx o    ': 14, 'xoxx ooxx oo   ': 0, 'xoxx ooxx o o  ': 0, 'xoxxoooxx o    ': 0, 'xoxx ooxx o  o ': 0, ' x             ': 1045, 'ox             ': 0, ' x    o        ': 0, ' xo            ': 0, ' x o           ': 0, ' x  o          ': 0, 'ox  x          ': 442, 'ox  xo         ': 0, 'ox  x o        ': 0, 'oxo x          ': 0, 'ox ox          ': 0, 'ox  x    o     ': 0, 'ox  xo   x     ': 127, 'ox  xo   xo    ': 0, 'ox  xoo  x     ': 0, 'oxo xo   x     ': 0, 'ox oxo   x     ': 0, 'ox  xo   x    o': 0, 'x    o    x    ': 164, 'xo   o    x    ': 0, 'x o  o    x    ': 0, 'x  o o    x    ': 0, 'x   oo    x    ': 0, 'xox  o    x    ': 42, 'xox  oo   x    ': 0, 'xox  o o  x    ': 0, 'xoxo o    x    ': 0, 'xox oo    x    ': 0, 'xox  oox  x    ': 11, 'xox  oox  xo   ': 0, 'xox  oox  x o  ': 0, 'xoxo oox  x    ': 0, 'xox ooox  x    ': 0, 'ox x           ': 398, 'ox x o         ': 0, 'ox x  o        ': 0, 'oxox           ': 0, 'ox x    o      ': 0, 'ox xo          ': 0, 'ox xxo         ': 264, 'ox xxo    o    ': 0, 'ox xxoo        ': 0, 'oxoxxo         ': 0, 'ox xxo  o      ': 0, 'ox xxo   o     ': 0, 'oxx xo         ': 272, 'oxx xo    o    ': 0, 'oxx xoo        ': 0, 'oxx xo o       ': 0, 'oxxoxo         ': 0, 'oxx xo   o     ': 0, '  x            ': 1011, 'o x            ': 0, ' ox            ': 0, '  x    o       ': 0, '  xo           ': 0, '  x o          ': 0, 'oxx            ': 395, 'oxx  o         ': 0, 'oxx   o        ': 0, 'oxx    o       ': 0, 'oxxo           ': 0, 'oxx o          ': 0, 'oxx  ox        ': 133, 'oxx  ox   o    ': 0, 'oxx  ox    o   ': 0, 'oxx  oxo       ': 0, 'oxxo ox        ': 0, 'oxx oox        ': 0, 'o x x          ': 396, 'o x xo         ': 0, 'oox x          ': 0, 'o x x  o       ': 0, 'o xox          ': 0, 'o x x    o     ': 0, 'o xx           ': 391, 'o xx o         ': 0, 'ooxx           ': 0, 'o xx   o       ': 0, 'o xx    o      ': 0, 'o xxo          ': 0, 'o x  x         ': 218, 'o x  x    o    ': 0, 'oox  x         ': 0, 'o x  x o       ': 0, 'o xo x         ': 0, 'o x ox         ': 0, 'oxx  x    o    ': 103, 'oxx  xo   o    ': 0, 'oxx  x o  o    ': 0, 'oxxo x    o    ': 0, 'oxx ox    o    ': 0, 'oxx  xo   ox   ': 32, 'oxx  xoo  ox   ': 0, 'oxxo xo   ox   ': 0, 'oxx oxo   ox   ': 0, 'oxx  xoo  oxx  ': 13, 'oxxo xoo  oxx  ': 0, 'oxx oxoo  oxx  ': 0, 'oxxoxxoo  oxx  ': 6, 'oxxoxxooo oxx  ': 0, 'oxxoxxoo ooxx  ': 0, 'ox  xox        ': 128, 'ox  xox   o    ': 0, 'ox  xox    o   ': 0, 'oxo xox        ': 0, 'ox oxox        ': 0, 'ox  xox  o     ': 0, '   x           ': 1010, 'o  x           ': 0, ' o x           ': 0, '  ox           ': 0, '   x    o      ': 0, '   xo          ': 0, 'ox x o  x      ': 104, 'ox x o  x o    ': 0, 'ox x oo x      ': 0, 'oxox o  x      ': 0, 'ox x o  x    o ': 0, 'ox xoo  x      ': 0, '    x          ': 999, 'o   x          ': 0, ' o  x          ': 0, '  o x          ': 0, '   ox          ': 0, '    x    o     ': 0, 'o x xo   x     ': 116, 'o x xo   xo    ': 0, 'oox xo   x     ': 0, 'o x xo o x     ': 0, 'o xoxo   x     ': 0, 'o x xo   x    o': 0, 'o   x    x     ': 189, 'o   xo   x     ': 0, 'oo  x    x     ': 0, 'o o x    x     ': 0, 'o  ox    x     ': 0, 'o   x    x    o': 0, 'ox    x        ': 203, 'ox   ox        ': 0, 'ox    x    o   ': 0, 'oxo   x        ': 0, 'ox o  x        ': 0, 'ox  o x        ': 0, 'xx   o         ': 187, 'xx   o    o    ': 0, 'xx   oo        ': 0, 'xxo  o         ': 0, 'xx o o         ': 0, 'xx  oo         ': 0, 'ox x ox        ': 125, 'ox x ox   o    ': 0, 'oxox ox        ': 0, 'ox x ox o      ': 0, 'ox xoox        ': 0, 'ox x ox    o   ': 0, 'o  x    x      ': 189, 'o  x o  x      ': 0, 'oo x    x      ': 0, 'o ox    x      ': 0, 'o  x    x    o ': 0, 'o  xo   x      ': 0, 'o  x o  x x    ': 33, 'oo x o  x x    ': 0, 'o ox o  x x    ': 0, 'o  x o  x x  o ': 0, 'o  xoo  x x    ': 0, 'ox   ox   x    ': 33, 'ox   ox   xo   ': 0, 'oxo  ox   x    ': 0, 'ox o ox   x    ': 0, 'ox  oox   x    ': 0, 'ox x ox   xo   ': 10, 'oxox ox   xo   ': 0, 'ox x ox o xo   ': 0, 'ox xoox   xo   ': 0, 'oxox ox x xo   ': 1, 'oxox oxox xo   ': 0, 'oxox ox x xo o ': 0, 'oxoxoox x xo   ': 0, 'o   xx         ': 195, 'o   xx    o    ': 0, 'oo  xx         ': 0, 'o o xx         ': 0, 'o  oxx         ': 0, 'o   xx   o     ': 0, 'o   xx   xo    ': 54, 'oo  xx   xo    ': 0, 'o o xx   xo    ': 0, 'o  oxx   xo    ': 0, 'o   xx   xo   o': 0, 'oox xx   xo    ': 42, 'oox xxo  xo    ': 0, 'oox xx o xo    ': 0, 'ooxoxx   xo    ': 0, 'oox xx   xo   o': 0, 'ox x o    x    ': 73, 'ox x oo   x    ': 0, 'oxox o    x    ': 0, 'ox x o  o x    ': 0, 'ox xoo    x    ': 0, 'ox x oo x x    ': 16, 'ox x oo x xo   ': 0, 'oxox oo x x    ': 0, 'ox x oo x x  o ': 0, 'ox xooo x x    ': 0, 'ox xxoo x xo   ': 21, 'oxoxxoo x xo   ': 0, 'ox xxoo x xo o ': 0, 'ox xxoo xoxo   ': 0, 'oxoxxooxx xo   ': 8, 'oxoxxooxx xoo  ': 0, 'oxoxxooxxoxo   ': 0, 'oxoxxooxx xo o ': 0, 'o xx x    o    ': 103, 'ooxx x    o    ': 0, 'o xx x o  o    ': 0, 'o xx x  o o    ': 0, 'o xxox    o    ': 0, 'ooxx x x  o    ': 42, 'ooxx xox  o    ': 0, 'ooxx x x  o o  ': 0, 'ooxx x xo o    ': 0, 'ooxxox x  o    ': 0, 'ooxx xoxx o    ': 18, 'ooxx xoxx oo   ': 0, 'ooxx xoxx o  o ': 0, 'ooxxoxoxx o    ': 0, 'ooxx xoxx o o  ': 0, 'x x  o         ': 175, 'x x  o    o    ': 0, 'xox  o         ': 0, 'x x  o o       ': 0, 'x xo o         ': 0, 'x x oo         ': 0, 'x x  o x  o    ': 44, 'xox  o x  o    ': 0, 'x x  o x  o o  ': 0, 'x xo o x  o    ': 0, 'x x oo x  o    ': 0, 'xox xo x  o    ': 34, 'xox xoox  o    ': 0, 'xoxoxo x  o    ': 0, 'xox xo x oo    ': 0, 'xox xo x  o o  ': 0, 'o  xx          ': 422, 'o  xxo         ': 0, 'oo xx          ': 0, 'o oxx          ': 0, 'o  xx   o      ': 0, 'o  xx    o     ': 0, 'o  xxo  x      ': 126, 'o  xxo  x o    ': 0, 'oo xxo  x      ': 0, 'o oxxo  x      ': 0, 'o  xxo  x    o ': 0, 'o  xxo  xo     ': 0, 'x   xo         ': 210, 'x   xo    o    ': 0, 'xo  xo         ': 0, 'x o xo         ': 0, 'x  oxo         ': 0, 'x   xo   o     ': 0, 'x x xo    o    ': 103, 'xox xo    o    ': 0, 'x x xo o  o    ': 0, 'x xoxo    o    ': 0, 'x x xo   oo    ': 0, 'xox xox   o    ': 27, 'xox xox   oo   ': 0, 'xox xoxo  o    ': 0, 'xoxoxox   o    ': 0, 'xox xox  oo    ': 0, 'o x  x x  o    ': 54, 'oox  x x  o    ': 0, 'o x  x x  o o  ': 0, 'o xo x x  o    ': 0, 'o x ox x  o    ': 0, 'o x    x       ': 190, 'o x  o x       ': 0, 'oox    x       ': 0, 'o x    x    o  ': 0, 'o xo   x       ': 0, 'o x o  x       ': 0, 'o xx o x       ': 129, 'o xx o x  o    ': 0, 'ooxx o x       ': 0, 'o xx o xo      ': 0, 'o xxoo x       ': 0, 'o xx o x    o  ': 0, 'xox xoo   x    ': 22, 'xox xoo   xo   ': 0, 'xox xooo  x    ': 0, 'xoxoxoo   x    ': 0, 'xox xoo  ox    ': 0, 'xx  xo    o    ': 102, 'xx  xoo   o    ': 0, 'xxo xo    o    ': 0, 'xx oxo    o    ': 0, 'xx  xo   oo    ': 0, 'xo  xo    x    ': 36, 'xo  xoo   x    ': 0, 'xoo xo    x    ': 0, 'xo oxo    x    ': 0, 'xo  xo   ox    ': 0, 'xo xxoo   x    ': 19, 'xo xxoo   xo   ': 0, 'xooxxoo   x    ': 0, 'xo xxoo o x    ': 0, 'xo xxoo  ox    ': 0, 'o  x x         ': 207, 'o  x x    o    ': 0, 'oo x x         ': 0, 'o ox x         ': 0, 'o  x x  o      ': 0, 'o  xox         ': 0, 'ox x x    o    ': 102, 'ox x xo   o    ': 0, 'oxox x    o    ': 0, 'ox x x  o o    ': 0, 'ox xox    o    ': 0, 'ox xxxo   o    ': 51, 'ox xxxo   oo   ': 0, 'oxoxxxo   o    ': 0, 'ox xxxo o o    ': 0, 'ox xxxo  oo    ': 0, 'ox xxxo  xoo   ': 28, 'oxoxxxo  xoo   ': 0, 'ox xxxo oxoo   ': 0, 'ox xxxo  xoo  o': 0, 'xox xox  xoo   ': 15, 'xox xoxo xoo   ': 0, 'xoxoxox  xoo   ': 0, 'xox xox  xoo  o': 0, 'oox xx x  o    ': 36, 'oox xxox  o    ': 0, 'ooxoxx x  o    ': 0, 'oox xx x oo    ': 0, 'oox xx x  o o  ': 0, 'x xx o    o    ': 75, 'xoxx o    o    ': 0, 'x xx o o  o    ': 0, 'x xx o  o o    ': 0, 'x xxoo    o    ': 0, 'xoxx ox   o    ': 21, 'xoxx ox   oo   ': 0, 'xoxx oxo  o    ': 0, 'xoxx ox o o    ': 0, 'xoxxoox   o    ': 0, 'xoxx oxx  oo   ': 11, 'xoxx oxx  ooo  ': 0, 'xoxx oxxo oo   ': 0, 'xoxxooxx  oo   ': 0, 'o x  o x  x    ': 30, 'oox  o x  x    ': 0, 'o x  o x  x o  ': 0, 'o xo o x  x    ': 0, 'o x oo x  x    ': 0, 'oox xo x  x    ': 40, 'oox xoox  x    ': 0, 'ooxoxo x  x    ': 0, 'oox xo x ox    ': 0, 'oox xo x  x o  ': 0, 'oox xoox  xx   ': 8, 'oox xoox  xxo  ': 0, 'ooxoxoox  xx   ': 0, 'oox xoox oxx   ': 0, 'oxx  o x       ': 117, 'oxx  o x  o    ': 0, 'oxx  oox       ': 0, 'oxxo o x       ': 0, 'oxx oo x       ': 0, 'oxx  o x    o  ': 0, 'o  x x  x o    ': 54, 'oo x x  x o    ': 0, 'o ox x  x o    ': 0, 'o  x x  x o  o ': 0, 'o  xox  x o    ': 0, 'oo xxx  x o    ': 37, 'oo xxxo x o    ': 0, 'oooxxx  x o    ': 0, 'oo xxx  xoo    ': 0, 'oo xxx  x o  o ': 0, 'oo xxxo x ox   ': 7, 'oooxxxo x ox   ': 0, 'oo xxxo x ox o ': 0, 'oo xxxo xoox   ': 0, 'oxx  o    x    ': 70, 'oxx  oo   x    ': 0, 'oxx  o o  x    ': 0, 'oxxo o    x    ': 0, 'oxx oo    x    ': 0, 'xx x o    o    ': 89, 'xx x oo   o    ': 0, 'xxox o    o    ': 0, 'xx x o  o o    ': 0, 'xx xoo    o    ': 0, 'o  xxo   x     ': 124, 'o  xxo   xo    ': 0, 'oo xxo   x     ': 0, 'o oxxo   x     ': 0, 'o  xxo  ox     ': 0, 'o  xxo   x    o': 0, 'xx  xoo   ox   ': 25, 'xxo xoo   ox   ': 0, 'xx oxoo   ox   ': 0, 'xx  xoo  oox   ': 0, 'ox   x         ': 220, 'ox   x    o    ': 0, 'ox   xo        ': 0, 'oxo  x         ': 0, 'ox o x         ': 0, 'ox  ox         ': 0, 'oxx xxo   o    ': 45, 'oxx xxo   oo   ': 0, 'oxx xxoo  o    ': 0, 'oxxoxxo   o    ': 0, 'oxx xxo  oo    ': 0, 'oxx xxox  oo   ': 24, 'oxx xxox  ooo  ': 0, 'oxxoxxox  oo   ': 0, 'oxx xxox ooo   ': 0, 'xox xo   xo    ': 43, 'xox xoo  xo    ': 0, 'xox xo o xo    ': 0, 'xoxoxo   xo    ': 0, 'xox xo   xo   o': 0, 'xox xoo  xox   ': 13, 'xox xooo xox   ': 0, 'xoxoxoo  xox   ': 0, 'xox xoo  xox  o': 0, 'oxx  oo   xx   ': 10, 'oxx  ooo  xx   ': 0, 'oxxo oo   xx   ': 0, 'oxx ooo   xx   ': 0, 'ooxx x  x o    ': 32, 'ooxx xo x o    ': 0, 'ooxx x ox o    ': 0, 'ooxx x  x o  o ': 0, 'ooxxox  x o    ': 0, 'o x xo    x    ': 83, 'oox xo    x    ': 0, 'o x xo o  x    ': 0, 'o xoxo    x    ': 0, 'o x xo   ox    ': 0, 'ox   xx   o    ': 63, 'ox   xx   oo   ': 0, 'oxo  xx   o    ': 0, 'ox o xx   o    ': 0, 'ox  oxx   o    ': 0, 'ox x xx   oo   ': 21, 'oxox xx   oo   ': 0, 'ox x xx o oo   ': 0, 'ox xoxx   oo   ': 0, 'ox x xo   ox   ': 24, 'oxox xo   ox   ': 0, 'ox x xo o ox   ': 0, 'ox xoxo   ox   ': 0, 'xo xxo  x o    ': 30, 'xo xxoo x o    ': 0, 'xooxxo  x o    ': 0, 'xo xxo  xoo    ': 0, 'xo xxo  x o  o ': 0, 'xo xxoo x ox   ': 7, 'xooxxoo x ox   ': 0, 'xo xxoo x ox o ': 0, 'xo xxoo xoox   ': 0, 'oxoxxxx   oo   ': 15, 'oxoxxxxo  oo   ': 0, 'oxoxxxx o oo   ': 0, 'oxoxxxx  ooo   ': 0, 'oxoxxxxox oo   ': 8, 'oxoxxxxox ooo  ': 0, 'oxoxxxxox oo o ': 0, 'oxoxxxxoxooo   ': 0, 'xx  xoo  xo    ': 31, 'xx  xoo  xoo   ': 0, 'xxo xoo  xo    ': 0, 'xx oxoo  xo    ': 0, 'xx  xoo  xo   o': 0, 'x  xxo    o    ': 90, 'xo xxo    o    ': 0, 'x oxxo    o    ': 0, 'x  xxo  o o    ': 0, 'x  xxo   oo    ': 0, 'xo xxo   xo    ': 43, 'xo xxoo  xo    ': 0, 'xooxxo   xo    ': 0, 'xo xxo  oxo    ': 0, 'xo xxo   xo   o': 0, 'xo xxoo  xox   ': 17, 'xooxxoo  xox   ': 0, 'xo xxoo oxox   ': 0, 'xo xxoo  xox  o': 0, 'xo   ox   x    ': 36, 'xo   ox   xo   ': 0, 'xoo  ox   x    ': 0, 'xo o ox   x    ': 0, 'xo  oox   x    ': 0, 'xo  xox   xo   ': 10, 'xoo xox   xo   ': 0, 'xo oxox   xo   ': 0, 'xo  xox  oxo   ': 0, 'xoo xox  xxo   ': 2, 'xoo xoxo xxo   ': 0, 'xoooxox  xxo   ': 0, 'xoo xox  xxo  o': 0, 'xooxxoxo xxo   ': 7, 'xooxxoxo xxoo  ': 0, 'xooxxoxooxxo   ': 0, 'xooxxoxo xxo  o': 0, 'xo x ox x o    ': 14, 'xo x ox x oo   ': 0, 'xoox ox x o    ': 0, 'xo xoox x o    ': 0, 'xo x ox x o  o ': 0, 'o x xo x       ': 112, 'o x xo x  o    ': 0, 'oox xo x       ': 0, 'o xoxo x       ': 0, 'o x xo x o     ': 0, 'o x xo x    o  ': 0, 'oxox xx x oo   ': 7, 'oxox xxox oo   ': 0, 'oxox xx x oo o ': 0, 'oxoxoxx x oo   ': 0, 'xox xoox xo    ': 23, 'xox xoox xoo   ': 0, 'xox xoox xo o  ': 0, 'xoxoxoox xo    ': 0, 'xox xoox xo   o': 0, 'o xx o    x    ': 87, 'ooxx o    x    ': 0, 'o xx o o  x    ': 0, 'o xx o  o x    ': 0, 'o xxoo    x    ': 0, 'ooxx o  x x    ': 24, 'ooxx oo x x    ': 0, 'ooxx o ox x    ': 0, 'ooxx o  x x  o ': 0, 'ooxxoo  x x    ': 0, 'o  xxo    x    ': 75, 'oo xxo    x    ': 0, 'o oxxo    x    ': 0, 'o  xxo  o x    ': 0, 'o  xxo   ox    ': 0, 'xox  oxx  o    ': 10, 'xox  oxx  oo   ': 0, 'xoxo oxx  o    ': 0, 'xox ooxx  o    ': 0, 'xox  oxx  o o  ': 0, 'ox  xx    o    ': 103, 'ox  xxo   o    ': 0, 'oxo xx    o    ': 0, 'ox oxx    o    ': 0, 'ox  xx   oo    ': 0, 'ox  xxo   ox   ': 18, 'oxo xxo   ox   ': 0, 'ox oxxo   ox   ': 0, 'ox  xxo  oox   ': 0, 'oxx xoo   x    ': 43, 'oxx xoo   xo   ': 0, 'oxx xooo  x    ': 0, 'oxxoxoo   x    ': 0, 'oxx xoo  ox    ': 0, 'oxx xoo  xxo   ': 21, 'oxx xooo xxo   ': 0, 'oxxoxoo  xxo   ': 0, 'oxx xoo  xxo  o': 0, 'ox x xo x o    ': 26, 'ox x xo x oo   ': 0, 'oxox xo x o    ': 0, 'ox x xo x o  o ': 0, 'ox xoxo x o    ': 0, 'o xx o  x      ': 111, 'o xx o  x o    ': 0, 'ooxx o  x      ': 0, 'o xx o ox      ': 0, 'o xx o  x    o ': 0, 'o xxoo  x      ': 0, 'oo xxox   x    ': 15, 'oo xxox   xo   ': 0, 'oooxxox   x    ': 0, 'oo xxox o x    ': 0, 'oo xxox  ox    ': 0, 'oo xxox x xo   ': 7, 'oooxxox x xo   ': 0, 'oo xxox x xo o ': 0, 'oo xxox xoxo   ': 0, 'xo  xoo   xx   ': 8, 'xoo xoo   xx   ': 0, 'xo oxoo   xx   ': 0, 'xo  xoo  oxx   ': 0, 'xoo xoox  xx   ': 2, 'xoo xoox  xxo  ': 0, 'xoooxoox  xx   ': 0, 'xoo xoox oxx   ': 0, 'o  xxx    o    ': 105, 'oo xxx    o    ': 0, 'o oxxx    o    ': 0, 'o  xxx  o o    ': 0, 'o  xxx   oo    ': 0, 'oo xxx   xo    ': 50, 'oo xxxo  xo    ': 0, 'oooxxx   xo    ': 0, 'oo xxx  oxo    ': 0, 'oo xxx   xo   o': 0, 'oo xxxo  xox   ': 14, 'oooxxxo  xox   ': 0, 'oo xxxo oxox   ': 0, 'oo xxxo  xox  o': 0, 'xo x o    x    ': 47, 'xo x oo   x    ': 0, 'xoox o    x    ': 0, 'xo x o  o x    ': 0, 'xo xoo    x    ': 0, 'xo x oo x x    ': 12, 'xo x oo x xo   ': 0, 'xoox oo x x    ': 0, 'xo x oo x x  o ': 0, 'xo xooo x x    ': 0, 'o   xo   xx    ': 35, 'oo  xo   xx    ': 0, 'o o xo   xx    ': 0, 'o  oxo   xx    ': 0, 'o   xo   xx   o': 0, 'oo xxo   xx    ': 27, 'oo xxoo  xx    ': 0, 'oooxxo   xx    ': 0, 'oo xxo  oxx    ': 0, 'oo xxo   xx   o': 0, 'xo x ox   xo   ': 16, 'xoox ox   xo   ': 0, 'xo x ox o xo   ': 0, 'xo xoox   xo   ': 0, 'xoox oxx  xo   ': 4, 'xoox oxx  xoo  ': 0, 'xoox oxxo xo   ': 0, 'xooxooxx  xo   ': 0, 'xooxxoxx  xoo  ': 4, 'xooxxoxxo xoo  ': 0, 'xooxxoxx oxoo  ': 0, 'xooxxoxxo xoox ': 2, 'xooxxoxxooxoox ': 0, 'x   xo   xo    ': 54, 'xo  xo   xo    ': 0, 'x o xo   xo    ': 0, 'x  oxo   xo    ': 0, 'x   xo   xo   o': 0, 'xo  xox  xo    ': 13, 'xo  xox  xoo   ': 0, 'xoo xox  xo    ': 0, 'xo oxox  xo    ': 0, 'xo  xox  xo   o': 0, 'xo xxox  xoo   ': 10, 'xooxxox  xoo   ': 0, 'xo xxox oxoo   ': 0, 'xo xxox  xoo  o': 0, 'oox xo   xx    ': 26, 'oox xoo  xx    ': 0, 'oox xo o xx    ': 0, 'ooxoxo   xx    ': 0, 'oox xo   xx   o': 0, 'oox xoo  xxx   ': 6, 'oox xooo xxx   ': 0, 'ooxoxoo  xxx   ': 0, 'oox xoo  xxx  o': 0, 'ox  xo    x    ': 79, 'ox  xoo   x    ': 0, 'oxo xo    x    ': 0, 'ox oxo    x    ': 0, 'ox  xo   ox    ': 0, 'ox  xoo   xx   ': 19, 'oxo xoo   xx   ': 0, 'ox oxoo   xx   ': 0, 'ox  xoo  oxx   ': 0, 'oxo xoo  xxx   ': 6, 'oxo xooo xxx   ': 0, 'oxooxoo  xxx   ': 0, 'oxo xoo  xxx  o': 0, 'ox  xxx   oo   ': 21, 'oxo xxx   oo   ': 0, 'ox oxxx   oo   ': 0, 'ox  xxx  ooo   ': 0, 'oxoxxxxo xoo   ': 5, 'oxoxxxxo xooo  ': 0, 'oxoxxxxooxoo   ': 0, 'oxoxxxxo xoo  o': 0, 'ox xxoo   x    ': 36, 'ox xxoo   xo   ': 0, 'oxoxxoo   x    ': 0, 'ox xxoo o x    ': 0, 'ox xxoo  ox    ': 0, 'oxox oxx  xo   ': 4, 'oxox oxx  xoo  ': 0, 'oxox oxxo xo   ': 0, 'oxoxooxx  xo   ': 0, 'oxoxxoxx  xoo  ': 2, 'oxoxxoxxo xoo  ': 0, 'oxoxxoxx oxoo  ': 0, 'oxoxxoxxoxxoo  ': 0, 'oxoxxoxxoxxooo ': 0, 'oxoxxoxxoxxoo o': 0, 'ooxx xx   o    ': 21, 'ooxx xx   oo   ': 0, 'ooxx xxo  o    ': 0, 'ooxx xx o o    ': 0, 'ooxxoxx   o    ': 0, 'ooxx xx x oo   ': 10, 'ooxx xxox oo   ': 0, 'ooxx xx x oo o ': 0, 'ooxxoxx x oo   ': 0, 'ooxx xxox oox  ': 5, 'ooxx xxox ooxo ': 0, 'ooxxoxxox oox  ': 0, 'ox xxxo x oo   ': 26, 'oxoxxxo x oo   ': 0, 'ox xxxo x oo o ': 0, 'ox xxxo xooo   ': 0, 'xoo xoxx  xo   ': 2, 'xoo xoxx  xoo  ': 0, 'xoooxoxx  xo   ': 0, 'xoo xoxx oxo   ': 0, 'xooxxoxxoxxoo  ': 1, 'xooxxoxxoxxooo ': 0, 'xooxxoxxoxxoo o': 0, 'xx xxoo   o    ': 38, 'xx xxoo   oo   ': 0, 'xxoxxoo   o    ': 0, 'xx xxoo o o    ': 0, 'xx xxoo  oo    ': 0, 'xx xxoo x oo   ': 18, 'xxoxxoo x oo   ': 0, 'xx xxoo x oo o ': 0, 'xx xxoo xooo   ': 0, 'oo xxo  x x    ': 28, 'oo xxoo x x    ': 0, 'oooxxo  x x    ': 0, 'oo xxo  x x  o ': 0, 'oo xxo  xox    ': 0, 'oxx  oox  x    ': 19, 'oxx  oox  xo   ': 0, 'oxx  oox  x o  ': 0, 'oxxo oox  x    ': 0, 'oxx ooox  x    ': 0, 'oxx xoox  xo   ': 17, 'oxx xoox  xoo  ': 0, 'oxxoxoox  xo   ': 0, 'oxx xoox oxo   ': 0, 'o x xx    o    ': 93, 'oox xx    o    ': 0, 'o x xx o  o    ': 0, 'o xoxx    o    ': 0, 'o x xx   oo    ': 0, 'oo  xxx  xo    ': 11, 'oo  xxx  xoo   ': 0, 'ooo xxx  xo    ': 0, 'oo oxxx  xo    ': 0, 'oo  xxx  xo   o': 0, 'oox xxx  xoo   ': 9, 'oox xxxo xoo   ': 0, 'ooxoxxx  xoo   ': 0, 'oox xxx  xoo  o': 0, 'xooxxox   xo   ': 11, 'xooxxoxo  xo   ': 0, 'xooxxox o xo   ': 0, 'xooxxox  oxo   ': 0, 'oo  xox  xx    ': 5, 'oo  xox  xxo   ': 0, 'ooo xox  xx    ': 0, 'oo oxox  xx    ': 0, 'oo  xox  xx   o': 0, 'oo xxox  xxo   ': 6, 'oooxxox  xxo   ': 0, 'oo xxox oxxo   ': 0, 'oo xxox  xxo  o': 0, 'xx x oo x o    ': 19, 'xx x oo x oo   ': 0, 'xxox oo x o    ': 0, 'xx x oo x o  o ': 0, 'xx xooo x o    ': 0, 'oo xxxx   o    ': 25, 'oo xxxx   oo   ': 0, 'oooxxxx   o    ': 0, 'oo xxxx o o    ': 0, 'oo xxxx  oo    ': 0, 'oo xxxx x oo   ': 13, 'oooxxxx x oo   ': 0, 'oo xxxx x oo o ': 0, 'oo xxxx xooo   ': 0, 'ooxx o x  x    ': 24, 'ooxx oox  x    ': 0, 'ooxx o xo x    ': 0, 'ooxxoo x  x    ': 0, 'ooxx o x  x o  ': 0, 'ox  xoo  xx    ': 18, 'ox  xoo  xxo   ': 0, 'oxo xoo  xx    ': 0, 'ox oxoo  xx    ': 0, 'ox  xoo  xx   o': 0, 'oox xxx   o    ': 20, 'oox xxx   oo   ': 0, 'oox xxxo  o    ': 0, 'ooxoxxx   o    ': 0, 'oox xxx  oo    ': 0, 'oox xxox xo    ': 21, 'oox xxox xoo   ': 0, 'ooxoxxox xo    ': 0, 'oox xxox xo   o': 0, 'oox xxox xo o  ': 0, 'xox xoox  ox   ': 7, 'xox xoox  oxo  ': 0, 'xoxoxoox  ox   ': 0, 'xox xoox oox   ': 0, 'oo xxxo xxo    ': 21, 'oo xxxo xxoo   ': 0, 'oooxxxo xxo    ': 0, 'oo xxxo xxo  o ': 0, 'oo xxxo xxo   o': 0, 'oo xxoo  xxx   ': 5, 'oooxxoo  xxx   ': 0, 'oo xxoo oxxx   ': 0, 'oo xxoo  xxx  o': 0, 'xoox ox x xo   ': 4, 'xoox oxox xo   ': 0, 'xoox ox x xo o ': 0, 'xooxoox x xo   ': 0, 'oox xxo  xox   ': 7, 'oox xxoo xox   ': 0, 'ooxoxxo  xox   ': 0, 'oox xxo  xox  o': 0, 'oox xxoo xoxx  ': 0, 'ooxoxxoo xoxx  ': 0, 'oox xxoo xoxx o': 0, 'oxxo xoox oxx  ': 6, 'oxxo xoox oxxo ': 0, 'oxxooxoox oxx  ': 0, 'oxoxxoo   xx   ': 10, 'oxoxxooo  xx   ': 0, 'oxoxxoo o xx   ': 0, 'oxoxxoo  oxx   ': 0, 'oo xxoo xxx    ': 17, 'oo xxoo xxxo   ': 0, 'oooxxoo xxx    ': 0, 'oo xxoo xxx  o ': 0, 'oo xxoo xxx   o': 0, 'oo x xx x o    ': 8, 'oo x xx x oo   ': 0, 'ooox xx x o    ': 0, 'oo xoxx x o    ': 0, 'oo x xx x o  o ': 0, 'xx   ox   o    ': 42, 'xx   ox   oo   ': 0, 'xxo  ox   o    ': 0, 'xx o ox   o    ': 0, 'xx  oox   o    ': 0, 'xx  xox   oo   ': 12, 'xxo xox   oo   ': 0, 'xx oxox   oo   ': 0, 'xx  xox  ooo   ': 0, 'xxo xoxx  oo   ': 2, 'xxo xoxx  ooo  ': 0, 'xxooxoxx  oo   ': 0, 'xxo xoxx ooo   ': 0, 'xx xxoo  xoo   ': 22, 'xxoxxoo  xoo   ': 0, 'xx xxoo oxoo   ': 0, 'xx xxoo  xoo  o': 0, 'oo x ox x x    ': 9, 'oo x ox x xo   ': 0, 'ooox ox x x    ': 0, 'oo xoox x x    ': 0, 'oo x ox x x  o ': 0, 'xx x oo   ox   ': 20, 'xxox oo   ox   ': 0, 'xx x oo o ox   ': 0, 'xx xooo   ox   ': 0, 'xox xoox xoxo  ': 2, 'xoxoxoox xoxo  ': 0, 'xox xoox xoxo o': 0, 'xoxx oo   x    ': 20, 'xoxx oo   xo   ': 0, 'xoxx ooo  x    ': 0, 'xoxx oo o x    ': 0, 'xoxxooo   x    ': 0, 'ooxx xo x ox   ': 7, 'ooxx xoox ox   ': 0, 'ooxx xo x ox o ': 0, 'ooxxoxo x ox   ': 0, 'ooxx xoox oxx  ': 2, 'ooxx xoox oxxo ': 0, 'ooxxoxoox oxx  ': 0, 'oxx xxoo  ox   ': 6, 'oxx xxoo  oxo  ': 0, 'oxxoxxoo  ox   ': 0, 'oxx xxoo oox   ': 0, 'oxo xxx  xoo   ': 5, 'oxo xxxo xoo   ': 0, 'oxooxxx  xoo   ': 0, 'oxo xxx  xoo  o': 0, 'oxo xxxo xoox  ': 1, 'oxooxxxo xoox  ': 0, 'oxo xxxo xoox o': 0, 'xox xoxx  oo   ': 10, 'xox xoxx  ooo  ': 0, 'xoxoxoxx  oo   ': 0, 'xox xoxx ooo   ': 0, 'oxx  xx   oo   ': 19, 'oxx  xxo  oo   ': 0, 'oxxo xx   oo   ': 0, 'oxx oxx   oo   ': 0, 'oxx  xxo  oox  ': 7, 'oxxo xxo  oox  ': 0, 'oxx oxxo  oox  ': 0, 'xoxx oo x ox   ': 11, 'xoxx ooox ox   ': 0, 'xoxx oo x ox o ': 0, 'xoxxooo x ox   ': 0, 'xx x ox   oo   ': 14, 'xxox ox   oo   ': 0, 'xx x ox o oo   ': 0, 'xx xoox   oo   ': 0, 'xxoxxox   oo   ': 10, 'xxoxxoxo  oo   ': 0, 'xxoxxox o oo   ': 0, 'xxoxxox  ooo   ': 0, 'xxoxxoxox oo   ': 4, 'xxoxxoxox ooo  ': 0, 'xxoxxoxox oo o ': 0, 'xxoxxoxoxooo   ': 0, 'xoxx o x  o    ': 23, 'xoxx oox  o    ': 0, 'xoxx o xo o    ': 0, 'xoxxoo x  o    ': 0, 'xoxx o x  o o  ': 0, 'xo xxoo xxo    ': 9, 'xo xxoo xxoo   ': 0, 'xooxxoo xxo    ': 0, 'xo xxoo xxo   o': 0, 'xo xxoo xxo  o ': 0, 'xox  oo   xx   ': 6, 'xox  ooo  xx   ': 0, 'xoxo oo   xx   ': 0, 'xox ooo   xx   ': 0, 'xoxx ox x oo   ': 13, 'xoxx oxox oo   ': 0, 'xoxx ox x oo o ': 0, 'xoxxoox x oo   ': 0, 'ox  xox   xo   ': 8, 'oxo xox   xo   ': 0, 'ox oxox   xo   ': 0, 'ox  xox  oxo   ': 0, 'oxoxxox   xo   ': 6, 'oxoxxoxo  xo   ': 0, 'oxoxxox o xo   ': 0, 'oxoxxox  oxo   ': 0, 'oxoxxoxox xo   ': 2, 'oxoxxoxox xoo  ': 0, 'oxoxxoxox xo o ': 0, 'oxoxxoxoxoxo   ': 0, 'oxo xoox  xx   ': 7, 'oxo xoox  xxo  ': 0, 'oxooxoox  xx   ': 0, 'oxo xoox oxx   ': 0, 'xo  xoo  xx    ': 11, 'xo  xoo  xxo   ': 0, 'xoo xoo  xx    ': 0, 'xo oxoo  xx    ': 0, 'xo  xoo  xx   o': 0, 'oxox xxox oox  ': 1, 'oxox xxox ooxo ': 0, 'oxoxoxxox oox  ': 0, 'xo xxox   o    ': 17, 'xo xxox   oo   ': 0, 'xooxxox   o    ': 0, 'xo xxox o o    ': 0, 'xo xxox  oo    ': 0, 'ox x oo   xx   ': 18, 'oxox oo   xx   ': 0, 'ox x oo o xx   ': 0, 'ox xooo   xx   ': 0, 'ooxx ooxx x    ': 7, 'ooxx ooxx xo   ': 0, 'ooxx ooxx x o  ': 0, 'ooxxoooxx x    ': 0, 'ooxx ooxx x  o ': 0, 'xooxxox xxoo   ': 4, 'xooxxoxoxxoo   ': 0, 'xooxxox xxoo o ': 0, 'xooxxox xxoo  o': 0, 'oxox oo x xx   ': 9, 'oxox ooox xx   ': 0, 'oxox oo x xx o ': 0, 'oxoxooo x xx   ': 0, 'oxoxxxxo  oox  ': 5, 'oxoxxxxoo oox  ': 0, 'oxoxxxxo ooox  ': 0, 'oxoxxxxoo ooxx ': 3, 'oxoxxxxoooooxx ': 0, 'oox xoox xx    ': 18, 'oox xoox xxo   ': 0, 'ooxoxoox xx    ': 0, 'oox xoox xx   o': 0, 'oox xoox xx o  ': 0, 'oxoxxxxooxoox  ': 1, 'oxoxxxxooxooxo ': 0, 'oxoxxxxooxoox o': 0, 'oox xxox  ox   ': 9, 'oox xxox  oxo  ': 0, 'ooxoxxox  ox   ': 0, 'oox xxox oox   ': 0, 'oo xxoo x xx   ': 8, 'oooxxoo x xx   ': 0, 'oo xxoo x xx o ': 0, 'oo xxoo xoxx   ': 0, 'xxox ox x oo   ': 3, 'xxox oxox oo   ': 0, 'xxox ox x oo o ': 0, 'xxoxoox x oo   ': 0, 'ox  xxo  xo    ': 30, 'ox  xxo  xoo   ': 0, 'oxo xxo  xo    ': 0, 'ox oxxo  xo    ': 0, 'ox  xxo  xo   o': 0, 'xooxxoo   xx   ': 11, 'xooxxooo  xx   ': 0, 'xooxxoo o xx   ': 0, 'xooxxoo  oxx   ': 0, 'ooxx oo x xx   ': 7, 'ooxx ooox xx   ': 0, 'ooxx oo x xx o ': 0, 'ooxxooo x xx   ': 0, 'xoo xoo  xxx   ': 1, 'xoo xooo xxx   ': 0, 'xoooxoo  xxx   ': 0, 'xoo xoo  xxx  o': 0, 'oxx  xox  o    ': 18, 'oxx  xox  oo   ': 0, 'oxx  xox  o o  ': 0, 'oxxo xox  o    ': 0, 'oxx oxox  o    ': 0, 'ox xxoo  xxo   ': 14, 'oxoxxoo  xxo   ': 0, 'ox xxoo oxxo   ': 0, 'ox xxoo  xxo  o': 0, 'oxoxxoox xxo   ': 2, 'oxoxxoox xxoo  ': 0, 'oxoxxooxoxxo   ': 0, 'oxoxxoox xxo  o': 0, 'xo x oo   xx   ': 10, 'xoox oo   xx   ': 0, 'xo x oo o xx   ': 0, 'xo xooo   xx   ': 0, 'oxx xxxo  oo   ': 4, 'oxx xxxo  ooo  ': 0, 'oxxoxxxo  oo   ': 0, 'oxx xxxo ooo   ': 0, 'xooxxoxox xo   ': 2, 'xooxxoxox xoo  ': 0, 'xooxxoxox xo o ': 0, 'xooxxoxoxoxo   ': 0, 'oxoxxoo xxxo   ': 10, 'oxoxxoooxxxo   ': 0, 'oxoxxoo xxxo o ': 0, 'oxoxxoo xxxo  o': 0, 'oo xxxx  xoo   ': 11, 'oooxxxx  xoo   ': 0, 'oo xxxx oxoo   ': 0, 'oo xxxx  xoo  o': 0, 'oxx xxo  xoo   ': 19, 'oxx xxoo xoo   ': 0, 'oxxoxxo  xoo   ': 0, 'oxx xxo  xoo  o': 0, 'oxx xxoo xoox  ': 9, 'oxxoxxoo xoox  ': 0, 'oxx xxoo xoox o': 0, 'xxoxxoxo xoo   ': 5, 'xxoxxoxo xooo  ': 0, 'xxoxxoxooxoo   ': 0, 'xxoxxoxo xoo  o': 0, 'xooxxoxx xoo   ': 0, 'xooxxoxx xooo  ': 0, 'xooxxoxxoxoo   ': 0, 'xooxxoxx xoo  o': 0, 'xxo xox  xoo   ': 4, 'xxo xoxo xoo   ': 0, 'xxooxox  xoo   ': 0, 'xxo xox  xoo  o': 0, 'oxoxxoxo xxo   ': 3, 'oxoxxoxo xxoo  ': 0, 'oxoxxoxooxxo   ': 0, 'oxoxxoxo xxo  o': 0, 'xo xxox x oo   ': 10, 'xooxxox x oo   ': 0, 'xo xxox x oo o ': 0, 'xo xxox xooo   ': 0, 'oox xxxo xoox  ': 2, 'ooxoxxxo xoox  ': 0, 'oox xxxo xoox o': 0, 'oxo xox  xxo   ': 3, 'oxo xoxo xxo   ': 0, 'oxooxox  xxo   ': 0, 'oxo xox  xxo  o': 0, 'oxo xoxo xxox  ': 1, 'oxooxoxo xxox  ': 0, 'oxo xoxo xxox o': 0, 'xoo xoox xxxo  ': 1, 'xoooxoox xxxo  ': 0, 'xoo xoox xxxo o': 0, 'xxox oxx  oo   ': 4, 'xxox oxx  ooo  ': 0, 'xxox oxxo oo   ': 0, 'xxoxooxx  oo   ': 0, 'xoox oo x xx   ': 0, 'xoox ooox xx   ': 0, 'xoox oo x xx o ': 0, 'xooxooo x xx   ': 0, 'oxo xoxx  xo   ': 1, 'oxo xoxx  xoo  ': 0, 'oxooxoxx  xo   ': 0, 'oxo xoxx oxo   ': 0, 'oxo xoxx xxoo  ': 1, 'oxooxoxx xxoo  ': 0, 'oxo xoxx xxoo o': 0, 'oxoxxoxo  xox  ': 0, 'oxoxxoxoo xox  ': 0, 'oxoxxoxo oxox  ': 0, 'oxoxxoxoo xoxx ': 0, 'oxoxxoxoooxoxx ': 0, 'xoo xoxx xxoo  ': 0, 'xoooxoxx xxoo  ': 0, 'xoo xoxx xxoo o': 0, 'oxox oxox xox  ': 0, 'oxox oxox xoxo ': 0, 'oxoxooxox xox  ': 0}\n"
     ]
    }
   ],
   "source": [
    "game()\n",
    "#make_dictionary()\n",
    "#test_undo()"
   ]
  },
  {
   "cell_type": "markdown",
   "metadata": {
    "deletable": false,
    "nbgrader": {
     "checksum": "34a84d16a71c19e759cb0afc7b41bbbc",
     "grade": true,
     "grade_id": "cell-ce1405b859519f91",
     "locked": false,
     "points": 30,
     "schema_version": 1,
     "solution": true
    }
   },
   "source": [
    "(A) [continued} Insert your static learning curve here (Plot 1).\n",
    "\n",
    "YOUR ANSWER HERE \n",
    "\n",
    "(B) In 3 sentences or less, explain your conclusions from the plot above. How close does your (average) agent get to the best possible level of performance? How efficiently does your (average) agent learn? \n",
    "\n",
    "YOUR ANSWER HERE \n",
    "\n",
    "(C) In five sentences or less, explain the key aspects of your implementation. How many state-action pairs do you represent in your Q-table? Describe and justify your settings of $\\alpha$ and $\\epsilon$. Are there any things you tried out that are not in your final implementation?\n",
    "\n",
    "YOUR ANSWER HERE\n",
    "\n",
    "(D) In the cell below, make it possible for us to produce from scratch a learning curve similar to Plot 1 but for a single agent, for a $k$ value of your own choosing. You do not need to include the baseline for random play.  This code should run in less than 30 seconds (ours runs in 2 seconds). \n"
   ]
  },
  {
   "cell_type": "code",
   "execution_count": null,
   "metadata": {
    "deletable": false,
    "nbgrader": {
     "checksum": "e65915a61d304027e4fbd2e714c4beba",
     "grade": true,
     "grade_id": "cell-e0e01e05236aee45",
     "locked": false,
     "points": 40,
     "schema_version": 1,
     "solution": true
    }
   },
   "outputs": [],
   "source": [
    "### This cell should produce from scratch a plot showing a learning curve for a single agent.\n"
   ]
  },
  {
   "cell_type": "markdown",
   "metadata": {},
   "source": [
    "## Part 2A\n",
    " \n",
    "Using the minimax policy you computed, answer the following question: The first player (Player 1) drops his/her first disk into column 2 (counting from the left). Consider the resulting state, shown in the following code cell. "
   ]
  },
  {
   "cell_type": "code",
   "execution_count": null,
   "metadata": {},
   "outputs": [],
   "source": [
    "env = connect.Connect(verbose=False)\n",
    "env.reset(first_player='o')\n",
    "env.act(action=1)\n",
    "print(env.grid[::-1])"
   ]
  },
  {
   "cell_type": "markdown",
   "metadata": {},
   "source": [
    "What is the Minimax Value of this state for Player 2? That is, assuming an optimal opponent, does the Minimax Policy expect to win the game (value = 1), lose the game (value = –1), or end the game in a draw (value = 0)? Please state your answer as a number.    \n",
    "\n",
    "* The code cell below should compute this value and assign it to a variable called `state_value`.\n",
    "* Count the number of branches of the game tree that were examined and assign this number to a variable called `num_branches`."
   ]
  },
  {
   "cell_type": "code",
   "execution_count": null,
   "metadata": {
    "deletable": false,
    "nbgrader": {
     "checksum": "7b00948d6cc98e71a2f9467263067bc0",
     "grade": false,
     "grade_id": "cell-9e3a2a1bebc09565",
     "locked": false,
     "schema_version": 1,
     "solution": true
    }
   },
   "outputs": [],
   "source": [
    "### Write all your code for Part 2A in or above this cell.\n",
    "\n",
    "# state_value = ...\n",
    "# num_branches = ...\n"
   ]
  },
  {
   "cell_type": "code",
   "execution_count": null,
   "metadata": {
    "deletable": false,
    "editable": false,
    "nbgrader": {
     "checksum": "0d9e96fd7c7ed9d9081eb564773f199c",
     "grade": true,
     "grade_id": "cell-c31d5222d21dd1d5",
     "locked": true,
     "points": 10,
     "schema_version": 1,
     "solution": false
    }
   },
   "outputs": [],
   "source": [
    "# This is an autograded test cell. Do not delete or change, otherwise you will get \n",
    "# no marks for this part of the assignment. Please make sure that this cell has \n",
    "# access to the variables state_value and num_branches."
   ]
  },
  {
   "cell_type": "markdown",
   "metadata": {},
   "source": [
    "## Part 2B\n",
    "Plot a learning curve similar to the one in Part 1, comparing your Q-learning algorithm, random play, and Minimax play. Assume as before that the opponent always plays first and uses a random policy."
   ]
  },
  {
   "cell_type": "code",
   "execution_count": null,
   "metadata": {
    "deletable": false,
    "nbgrader": {
     "checksum": "f6ed321958b16409ec1935b0fef7aa0d",
     "grade": true,
     "grade_id": "cell-a1d1652414bc7967",
     "locked": false,
     "points": 0,
     "schema_version": 1,
     "solution": true
    }
   },
   "outputs": [],
   "source": [
    "### Write all your code for Exercise 2 (B) in or above this cell.\n"
   ]
  },
  {
   "cell_type": "markdown",
   "metadata": {
    "deletable": false,
    "nbgrader": {
     "checksum": "614920eb9ba438cf5626dd59edc30252",
     "grade": true,
     "grade_id": "cell-1ea89dfffb81a041",
     "locked": false,
     "points": 10,
     "schema_version": 1,
     "solution": true
    }
   },
   "source": [
    "Explain your findings in 3 or fewer sentences. Which policy is better? Why?\n",
    "\n",
    "YOUR ANSWER HERE.\n",
    "\n"
   ]
  },
  {
   "cell_type": "markdown",
   "metadata": {},
   "source": [
    "## Part 3\n",
    "\n",
    "Using your algorithm, compute the value of the game for your player (recall: your player goes second against a random opponent). The code cell below should compute this value and assign it to a variable called `optimal_policy_value`."
   ]
  },
  {
   "cell_type": "code",
   "execution_count": null,
   "metadata": {
    "deletable": false,
    "nbgrader": {
     "checksum": "d7e4093f906a825959634f4ee6e6845f",
     "grade": false,
     "grade_id": "cell-a28f4f38b5cc6619",
     "locked": false,
     "schema_version": 1,
     "solution": true
    }
   },
   "outputs": [],
   "source": [
    "### Write all your code for Part 3 in or above this cell.\n",
    "\n",
    "# optimal_policy_value = ...\n"
   ]
  },
  {
   "cell_type": "code",
   "execution_count": null,
   "metadata": {
    "deletable": false,
    "editable": false,
    "nbgrader": {
     "checksum": "b3a945d86dc159320c257d69389cf765",
     "grade": true,
     "grade_id": "cell-1e0341a7a580c299",
     "locked": true,
     "points": 10,
     "schema_version": 1,
     "solution": false
    }
   },
   "outputs": [],
   "source": [
    "# This is an autograded test cell. Do not delete or change, otherwise you will get \n",
    "# no marks for this part of the assignment. Please make sure that this cell has \n",
    "# access to the variable optimal_policy_value."
   ]
  }
 ],
 "metadata": {
  "kernelspec": {
   "display_name": "Python 3",
   "language": "python",
   "name": "python3"
  },
  "language_info": {
   "codemirror_mode": {
    "name": "ipython",
    "version": 3
   },
   "file_extension": ".py",
   "mimetype": "text/x-python",
   "name": "python",
   "nbconvert_exporter": "python",
   "pygments_lexer": "ipython3",
   "version": "3.6.4"
  }
 },
 "nbformat": 4,
 "nbformat_minor": 2
}
